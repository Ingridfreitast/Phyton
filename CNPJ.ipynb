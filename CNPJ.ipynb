{
  "nbformat": 4,
  "nbformat_minor": 0,
  "metadata": {
    "colab": {
      "provenance": []
    },
    "kernelspec": {
      "name": "python3",
      "display_name": "Python 3"
    },
    "language_info": {
      "name": "python"
    }
  },
  "cells": [
    {
      "cell_type": "code",
      "execution_count": null,
      "metadata": {
        "id": "Nx0aW7NOuwhh",
        "colab": {
          "base_uri": "https://localhost:8080/",
          "height": 191
        },
        "outputId": "6694255e-6eb0-47b8-bb29-12ee3709d528"
      },
      "outputs": [
        {
          "output_type": "stream",
          "name": "stdout",
          "text": [
            "CNPJ 67993246000182 ( 0 / 10 ) downloading\n",
            "CNPJ 03290589000289 ( 1 / 10 ) downloading\n",
            "CNPJ 71754477000100 ( 2 / 10 ) downloading\n",
            "CNPJ 71754477000453 ( 3 / 10 ) downloading\n",
            "CNPJ 06158181000165 ( 4 / 10 ) downloading\n",
            "CNPJ 72303589001260 ( 5 / 10 ) downloading\n",
            "CNPJ 43463694000459 ( 6 / 10 ) downloading\n",
            "CNPJ 03290589000106 ( 7 / 10 ) downloading\n",
            "CNPJ 61700977000106 ( 8 / 10 ) downloading\n",
            "CNPJ 57503450000114 ( 9 / 10 ) downloading\n"
          ]
        },
        {
          "output_type": "display_data",
          "data": {
            "text/plain": [
              "<IPython.core.display.Javascript object>"
            ],
            "application/javascript": [
              "\n",
              "    async function download(id, filename, size) {\n",
              "      if (!google.colab.kernel.accessAllowed) {\n",
              "        return;\n",
              "      }\n",
              "      const div = document.createElement('div');\n",
              "      const label = document.createElement('label');\n",
              "      label.textContent = `Downloading \"${filename}\": `;\n",
              "      div.appendChild(label);\n",
              "      const progress = document.createElement('progress');\n",
              "      progress.max = size;\n",
              "      div.appendChild(progress);\n",
              "      document.body.appendChild(div);\n",
              "\n",
              "      const buffers = [];\n",
              "      let downloaded = 0;\n",
              "\n",
              "      const channel = await google.colab.kernel.comms.open(id);\n",
              "      // Send a message to notify the kernel that we're ready.\n",
              "      channel.send({})\n",
              "\n",
              "      for await (const message of channel.messages) {\n",
              "        // Send a message to notify the kernel that we're ready.\n",
              "        channel.send({})\n",
              "        if (message.buffers) {\n",
              "          for (const buffer of message.buffers) {\n",
              "            buffers.push(buffer);\n",
              "            downloaded += buffer.byteLength;\n",
              "            progress.value = downloaded;\n",
              "          }\n",
              "        }\n",
              "      }\n",
              "      const blob = new Blob(buffers, {type: 'application/binary'});\n",
              "      const a = document.createElement('a');\n",
              "      a.href = window.URL.createObjectURL(blob);\n",
              "      a.download = filename;\n",
              "      div.appendChild(a);\n",
              "      a.click();\n",
              "      div.remove();\n",
              "    }\n",
              "  "
            ]
          },
          "metadata": {}
        },
        {
          "output_type": "display_data",
          "data": {
            "text/plain": [
              "<IPython.core.display.Javascript object>"
            ],
            "application/javascript": [
              "download(\"download_4e9f9d5f-60dc-449d-bdf2-e7df2dfc279f\", \"cnpj.xlsx\", 8429)"
            ]
          },
          "metadata": {}
        }
      ],
      "source": [
        "import time\n",
        "import pandas as pd\n",
        "import requests\n",
        "from google.colab import files\n",
        "\n",
        "ids = [67993246000182,\n",
        "\"03290589000289\",\n",
        "71754477000100,\n",
        "71754477000453,\n",
        "\"06158181000165\",\n",
        "72303589001260,\n",
        "43463694000459,\n",
        "\"03290589000106\",\n",
        "61700977000106,\n",
        "57503450000114]  #números de CNPJS buscados, se começar com 0 incluir aspas (\"\")\n",
        "\n",
        "dfs = []  # resultado\n",
        "for i, id in enumerate(ids):\n",
        "    print('CNPJ', id, '(', i, '/', len(ids), ') downloading') # contagem de CNPJ pesquisados / total de CNPJ\n",
        "    url = \"https://receitaws.com.br/v1/cnpj/\" + str(id)  #endereço link da api + número de CNPJ pesquisado\n",
        "    response = requests.get(url).json()\n",
        "    records_df = pd.DataFrame(pd.json_normalize(response))  # convert para excel\n",
        "    dfs.append(records_df)  # adiciona o resultado\n",
        "    time.sleep(21)  # a cada 21 segundos faz um CNPJ - api faz apenas 3 consultas por minuto\n",
        "\n",
        "df = pd.concat(dfs, ignore_index=True)  # une todos os resultados\n",
        "df.to_excel(\"cnpj.xlsx\", index=False)  # salva em excel\n",
        "files.download(\"cnpj.xlsx\")  # baixa o arquivo final"
      ]
    }
  ]
}